{
 "cells": [
  {
   "cell_type": "markdown",
   "metadata": {},
   "source": [
    "## Learning"
   ]
  },
  {
   "cell_type": "code",
   "execution_count": 1,
   "metadata": {},
   "outputs": [],
   "source": [
    "import numpy as np\n",
    "import pandas as pd\n",
    "import os\n",
    "import sys\n",
    "import glob\n",
    "from collections import OrderedDict\n",
    "\n",
    "%matplotlib inline\n",
    "import matplotlib.pyplot as plt\n",
    "import seaborn as sns\n",
    "\n",
    "from sklearn.model_selection import train_test_split\n",
    "from sklearn.model_selection import GridSearchCV\n",
    "from sklearn.model_selection import LeaveOneGroupOut\n",
    "from sklearn.preprocessing import StandardScaler\n",
    "from sklearn.utils import check_X_y\n",
    "\n",
    "from sklearn.svm import SVC\n",
    "from sklearn.neural_network import MLPClassifier\n",
    "from sklearn.linear_model import LogisticRegression\n",
    "from sklearn.ensemble import RandomForestClassifier\n",
    "from sklearn.tree import DecisionTreeClassifier\n",
    "from sklearn.ensemble import ExtraTreesClassifier\n",
    "from sklearn.dummy import DummyClassifier\n",
    "\n",
    "from sklearn import metrics\n",
    "from sklearn.metrics import mean_squared_error\n",
    "from sklearn.metrics import classification_report\n",
    "\n",
    "from sklearn.externals import joblib"
   ]
  },
  {
   "cell_type": "markdown",
   "metadata": {},
   "source": [
    "### Setting and utilities"
   ]
  },
  {
   "cell_type": "code",
   "execution_count": 2,
   "metadata": {},
   "outputs": [],
   "source": [
    "# Select plot setting:\n",
    "plot = 0"
   ]
  },
  {
   "cell_type": "code",
   "execution_count": 3,
   "metadata": {},
   "outputs": [],
   "source": [
    "# Select train test setting:\n",
    "\n",
    "# train_test_setting = 'not_homogeneous'  # Benchmark and MILPlib are separated in train and test\n",
    "train_test_setting = 'homogeneous'  # Portions of both datasets are used in both train and test\n",
    "# train_test_setting = 'random'  # All data-points mixed, random split\n",
    "# train_test_setting = 'miplib_homogeneous'  # Do not use MILPlib Mittellmann, keep same instances together\n",
    "# train_test_setting = 'miplib_random'  # Do not use MILPlib Mittellmann, mix instances"
   ]
  },
  {
   "cell_type": "code",
   "execution_count": 4,
   "metadata": {},
   "outputs": [],
   "source": [
    "# Select features setting:\n",
    "reduced_features = True  # use only some selected features, False for using all of them"
   ]
  },
  {
   "cell_type": "code",
   "execution_count": 5,
   "metadata": {},
   "outputs": [],
   "source": [
    "# Decide if results are saved:\n",
    "save_results = True"
   ]
  },
  {
   "cell_type": "code",
   "execution_count": 6,
   "metadata": {},
   "outputs": [],
   "source": [
    "def clean_dataset(df):\n",
    "    assert isinstance(df, pd.DataFrame), \"df needs to be a pd.DataFrame\"\n",
    "    df.dropna(inplace=True)\n",
    "    indices_to_keep = ~df.isin([np.nan, np.inf, -np.inf]).any(1)\n",
    "    return df[indices_to_keep].astype(np.float64)"
   ]
  },
  {
   "cell_type": "markdown",
   "metadata": {},
   "source": [
    "### Data reading"
   ]
  },
  {
   "cell_type": "code",
   "execution_count": 7,
   "metadata": {},
   "outputs": [
    {
     "name": "stdout",
     "output_type": "stream",
     "text": [
      "2_Challenge160_201709013_ft1_label.npz\n",
      "1_Challenge160_201709013_ft1_label.npz\n"
     ]
    }
   ],
   "source": [
    "cwd_backup = os.getcwd()\n",
    "# print os.path.dirname(os.getcwd())\n",
    "dat_path = os.path.dirname(os.getcwd()) + '/dat/'\n",
    "npz_path = os.path.dirname(os.getcwd()) + '/dat/features1_npz' \n",
    "# print npz_path\n",
    "os.chdir(npz_path)\n",
    "for f in glob.glob('*_Chall*.npz'):\n",
    "    print(f)\n",
    "    \n",
    "os.chdir(cwd_backup)"
   ]
  },
  {
   "cell_type": "code",
   "execution_count": 8,
   "metadata": {},
   "outputs": [],
   "source": [
    "# os.chdir(npz_path)\n",
    "# for f in glob.glob('*.npz'):\n",
    "#     print(f)\n",
    "    \n",
    "# os.chdir(cwd_backup)"
   ]
  },
  {
   "cell_type": "code",
   "execution_count": 9,
   "metadata": {},
   "outputs": [
    {
     "name": "stdout",
     "output_type": "stream",
     "text": [
      "(126, 127)\n",
      "(84, 127)\n",
      "(126, 127)\n",
      "(84, 127)\n",
      "(129, 127)\n",
      "(84, 127)\n"
     ]
    }
   ],
   "source": [
    "# Benchmark set\n",
    "\n",
    "f1 = os.path.join(npz_path, \"1_Benchmark78_201709013_ft1_label.npz\")\n",
    "loaded1 = np.load(f1)\n",
    "data1 = loaded1['data']\n",
    "cols1 = loaded1['cols']\n",
    "dec_cols1 = []\n",
    "for c in cols1:\n",
    "    dec_cols1.append(c.decode('utf-8'))\n",
    "df1 = pd.DataFrame(data1, columns=dec_cols1) \n",
    "df1['Set'] = 'Benchmark78'\n",
    "print(data1.shape)\n",
    "\n",
    "f2 = os.path.join(npz_path, \"2_Benchmark78_201709013_ft1_label.npz\")\n",
    "loaded2 = np.load(f2)\n",
    "data2 = loaded2['data']\n",
    "cols2 = loaded2['cols']\n",
    "dec_cols2 = []\n",
    "for c in cols2:\n",
    "    dec_cols2.append(c.decode('utf-8'))\n",
    "df2 = pd.DataFrame(data2, columns=dec_cols2) \n",
    "df2['Set'] = 'Benchmark78'\n",
    "print(data2.shape)\n",
    "\n",
    "f3 = os.path.join(npz_path, \"1_Benchmark78_201805022_ft1_label.npz\")\n",
    "loaded3 = np.load(f3)\n",
    "data3 = loaded3['data']\n",
    "cols3 = loaded3['cols']\n",
    "dec_cols3 = []\n",
    "for c in cols3:\n",
    "    dec_cols3.append(c.decode('utf-8'))\n",
    "df3 = pd.DataFrame(data3, columns=dec_cols3)\n",
    "df3['Set'] = 'Benchmark78'\n",
    "print(data3.shape)\n",
    "\n",
    "f4 = os.path.join(npz_path, \"2_Benchmark78_201805022_ft1_label.npz\")\n",
    "loaded4 = np.load(f4)\n",
    "data4 = loaded4['data']\n",
    "cols4 = loaded4['cols']\n",
    "dec_cols4 = []\n",
    "for c in cols4:\n",
    "    dec_cols4.append(c.decode('utf-8'))\n",
    "df4 = pd.DataFrame(data4, columns=dec_cols4)\n",
    "df4['Set'] = 'Benchmark78'\n",
    "print(data4.shape)\n",
    "\n",
    "f5 = os.path.join(npz_path, \"1_Benchmark78_201805221_ft1_label.npz\")\n",
    "loaded5 = np.load(f5)\n",
    "data5 = loaded5['data']\n",
    "cols5 = loaded5['cols']\n",
    "dec_cols5 = []\n",
    "for c in cols5:\n",
    "    dec_cols5.append(c.decode('utf-8'))\n",
    "df5 = pd.DataFrame(data5, columns=dec_cols5)\n",
    "df5['Set'] = 'Benchmark78'\n",
    "print(data5.shape)\n",
    "\n",
    "f6 = os.path.join(npz_path, \"2_Benchmark78_201805221_ft1_label.npz\")\n",
    "loaded6 = np.load(f6)\n",
    "data6 = loaded6['data']\n",
    "cols6 = loaded6['cols']\n",
    "dec_cols6 = []\n",
    "for c in cols6:\n",
    "    dec_cols6.append(c.decode('utf-8'))\n",
    "df6 = pd.DataFrame(data6, columns=dec_cols6)\n",
    "df6['Set'] = 'Benchmark78'\n",
    "print(data6.shape)\n"
   ]
  },
  {
   "cell_type": "code",
   "execution_count": 10,
   "metadata": {},
   "outputs": [
    {
     "data": {
      "text/plain": [
       "Index(['LabelTime', 'ChunkNum', 'LastData_1', 'LastData_2', 'LastData_3',\n",
       "       'LastData_4', 'LastData_5', 'LastData_6', 'LastData_7', 'LastData_8',\n",
       "       ...\n",
       "       'OpenNodes_11', 'OpenNodes_12', 'OpenNodes_13', 'OpenNodes_14',\n",
       "       'OpenNodes_15', 'OpenNodes_16', 'Time_1', 'Time_2', 'Label', 'Set'],\n",
       "      dtype='object', length=128)"
      ]
     },
     "execution_count": 10,
     "metadata": {},
     "output_type": "execute_result"
    }
   ],
   "source": [
    "df1.columns"
   ]
  },
  {
   "cell_type": "code",
   "execution_count": 11,
   "metadata": {},
   "outputs": [
    {
     "name": "stdout",
     "output_type": "stream",
     "text": [
      "(57, 127)\n",
      "(42, 127)\n",
      "(54, 127)\n",
      "(42, 127)\n",
      "(57, 127)\n",
      "(36, 127)\n"
     ]
    }
   ],
   "source": [
    "# MILPlib\n",
    "\n",
    "f7 = os.path.join(npz_path, \"1_MILPlib_Mittelmann_201709013_ft1_label.npz\")\n",
    "loaded7 = np.load(f7)\n",
    "data7 = loaded7['data']\n",
    "cols7 = loaded7['cols']\n",
    "dec_cols7 = []\n",
    "for c in cols7:\n",
    "    dec_cols7.append(c.decode('utf-8'))\n",
    "df7 = pd.DataFrame(data7, columns=dec_cols7)\n",
    "df7['Set'] = 'MILPlib'\n",
    "print(data7.shape)\n",
    "\n",
    "f8 = os.path.join(npz_path, \"2_MILPlib_Mittelmann_201709013_ft1_label.npz\")\n",
    "loaded8 = np.load(f8)\n",
    "data8 = loaded8['data']\n",
    "cols8 = loaded8['cols']\n",
    "dec_cols8 = []\n",
    "for c in cols8:\n",
    "    dec_cols8.append(c.decode('utf-8'))\n",
    "df8 = pd.DataFrame(data8, columns=dec_cols8)\n",
    "df8['Set'] = 'MILPlib'\n",
    "print(data8.shape)\n",
    "\n",
    "f9 = os.path.join(npz_path, \"1_MILPlib_Mittelmann_201805022_ft1_label.npz\")\n",
    "loaded9 = np.load(f9)\n",
    "data9 = loaded9['data']\n",
    "cols9 = loaded9['cols']\n",
    "dec_cols9 = []\n",
    "for c in cols9:\n",
    "    dec_cols9.append(c.decode('utf-8'))\n",
    "df9 = pd.DataFrame(data9, columns=dec_cols9)\n",
    "df9['Set'] = 'MILPlib'\n",
    "print(data9.shape)\n",
    "\n",
    "f10 = os.path.join(npz_path, \"2_MILPlib_Mittelmann_201805022_ft1_label.npz\")\n",
    "loaded10 = np.load(f10)\n",
    "data10 = loaded10['data']\n",
    "cols10 = loaded10['cols']\n",
    "dec_cols10 = []\n",
    "for c in cols10:\n",
    "    dec_cols10.append(c.decode('utf-8'))\n",
    "df10 = pd.DataFrame(data10, columns=dec_cols10)\n",
    "df10['Set'] = 'MILPlib'\n",
    "print(data10.shape)\n",
    "\n",
    "f11 = os.path.join(npz_path, \"1_MILPlib_Mittelmann_201805221_ft1_label.npz\")\n",
    "loaded11 = np.load(f11)\n",
    "data11 = loaded11['data']\n",
    "cols11 = loaded11['cols']\n",
    "dec_cols11 = []\n",
    "for c in cols11:\n",
    "    dec_cols11.append(c.decode('utf-8'))\n",
    "df11 = pd.DataFrame(data11, columns=dec_cols11)\n",
    "df11['Set'] = 'MILPlib'\n",
    "print(data11.shape)\n",
    "\n",
    "f12 = os.path.join(npz_path, \"2_MILPlib_Mittelmann_201805221_ft1_label.npz\")\n",
    "loaded12 = np.load(f12)\n",
    "data12 = loaded12['data']\n",
    "cols12 = loaded12['cols']\n",
    "dec_cols12 = []\n",
    "for c in cols12:\n",
    "    dec_cols12.append(c.decode('utf-8'))\n",
    "df12 = pd.DataFrame(data12, columns=dec_cols12)\n",
    "df12['Set'] = 'MILPlib'\n",
    "print(data12.shape)\n"
   ]
  },
  {
   "cell_type": "code",
   "execution_count": 12,
   "metadata": {},
   "outputs": [
    {
     "name": "stdout",
     "output_type": "stream",
     "text": [
      "(202, 128)\n",
      "(192, 128)\n"
     ]
    }
   ],
   "source": [
    "# Challenge\n",
    "\n",
    "f13 = os.path.join(npz_path, \"1_Challenge160_201709013_ft1_label.npz\")\n",
    "loaded13 = np.load(f13)\n",
    "data13 = loaded13['data']\n",
    "cols13 = loaded13['cols']\n",
    "dec_cols13 = []\n",
    "for c in cols13:\n",
    "    dec_cols13.append(c.decode('utf-8'))\n",
    "df13 = pd.DataFrame(data13, columns=dec_cols13)\n",
    "df13['Set'] = 'Challenge160'\n",
    "print(df13.shape)\n",
    "\n",
    "f14 = os.path.join(npz_path, \"2_Challenge160_201709013_ft1_label.npz\")\n",
    "loaded14 = np.load(f14)\n",
    "data14 = loaded14['data']\n",
    "cols14 = loaded14['cols']\n",
    "dec_cols14 = []\n",
    "for c in cols14:\n",
    "    dec_cols14.append(c.decode('utf-8'))\n",
    "df14 = pd.DataFrame(data14, columns=dec_cols14)\n",
    "df14['Set'] = 'Challenge160'\n",
    "print(df14.shape)"
   ]
  },
  {
   "cell_type": "markdown",
   "metadata": {},
   "source": [
    "### Create training and test sets"
   ]
  },
  {
   "cell_type": "markdown",
   "metadata": {},
   "source": [
    "Compose training and test set depending on `train_test_setting`:"
   ]
  },
  {
   "cell_type": "code",
   "execution_count": 13,
   "metadata": {},
   "outputs": [
    {
     "name": "stdout",
     "output_type": "stream",
     "text": [
      "Setting: homogeneous\n",
      "Training shape: (751, 128)\n",
      "Test shape: (564, 128)\n",
      "Label split (#0, #1): \n",
      "\t(277, 474)\n",
      "\t(235, 329)\n"
     ]
    }
   ],
   "source": [
    "if train_test_setting == 'miplib_homogeneous':\n",
    "    \n",
    "    df = pd.concat([df1, df3, df5, df13], axis=0, ignore_index=True)  # training set\n",
    "    df_test = pd.concat([df2, df4, df6, df14], axis=0, ignore_index=True)  # test set\n",
    "#     df.columns = df.columns.str.decode('utf-8') \n",
    "#     df_test.columns = df_test.columns.str.decode('utf-8') \n",
    "    \n",
    "    if plot == 1:\n",
    "        df.Label.hist()\n",
    "        plt.title('Total training set')\n",
    "        plt.savefig('01hist_training_nothom.png')\n",
    "        df_test.Label.hist()\n",
    "        plt.title('Total test set')\n",
    "        plt.savefig('01hist_test_nothom.png')\n",
    "        \n",
    "    print(\"Setting: {}\".format(train_test_setting))\n",
    "    print(\"Training shape: {}\".format(df.shape))\n",
    "    print(\"Test shape: {}\".format(df_test.shape))\n",
    "    print(\"Label split (#0, #1): \")\n",
    "    print(\"\\t({}, {})\".format(df.loc[df['Label']==0].shape[0], df.loc[df['Label']==1].shape[0]))\n",
    "    print(\"\\t({}, {})\".format(df_test.loc[df_test['Label']==0].shape[0], df_test.loc[df_test['Label']==1].shape[0]))\n",
    "    \n",
    "\n",
    "if train_test_setting == 'miplib_random':\n",
    "    df_all  = pd.concat([df1, df2, df3, df4, df5, df6, df13, df14], \n",
    "                        axis=0, ignore_index=True)\n",
    "    df_label_all = df_all['Label']\n",
    "    df_ft_all = df_all.drop(['Label'], axis=1)\n",
    "    df_ft, df_ft_test, df_label, df_label_test = train_test_split(df_ft_all, df_label_all, \n",
    "                                                                  test_size=0.4, random_state=123)\n",
    "    \n",
    "    df = pd.concat([df_ft, df_label], axis=1)\n",
    "    df_test = pd.concat([df_ft_test, df_label_test], axis=1)\n",
    "#     df.columns = df.columns.str.decode('utf-8') \n",
    "#     df_test.columns = df_test.columns.str.decode('utf-8') \n",
    "    \n",
    "    if plot == 1:\n",
    "        df.Label.hist()\n",
    "        plt.title('Total training set')\n",
    "        plt.savefig('01hist_training_random.png')\n",
    "        df_test.Label.hist()\n",
    "        plt.title('Total test set')\n",
    "        plt.savefig('01hist_test_random.png')\n",
    "        \n",
    "    print(\"Setting: {}\".format(train_test_setting))\n",
    "    print(\"Training shape: {}\".format(df.shape))\n",
    "    print(\"Test shape: {}\".format(df_test.shape))\n",
    "    print(\"Label split (#0, #1): \")\n",
    "    print(\"\\t({}, {})\".format(df.loc[df['Label']==0].shape[0], df.loc[df['Label']==1].shape[0]))\n",
    "    print(\"\\t({}, {})\".format(df_test.loc[df_test['Label']==0].shape[0], df_test.loc[df_test['Label']==1].shape[0]))\n",
    "\n",
    "\n",
    "if train_test_setting == 'not_homogeneous':\n",
    "    \n",
    "    df = pd.concat([df1, df2, df3, df4, df5, df6, df13], axis=0, ignore_index=True)  # training set\n",
    "    df_test = pd.concat([df7, df8, df9, df10, df11, df12, df14], axis=0, ignore_index=True)  # test set\n",
    "#     df.columns = df.columns.str.decode('utf-8') \n",
    "#     df_test.columns = df_test.columns.str.decode('utf-8') \n",
    "    \n",
    "    if plot == 1:\n",
    "        df.Label.hist()\n",
    "        plt.title('Total training set')\n",
    "        plt.savefig('01hist_training_nothom.png')\n",
    "        df_test.Label.hist()\n",
    "        plt.title('Total test set')\n",
    "        plt.savefig('01hist_test_nothom.png')\n",
    "        \n",
    "    print(\"Setting: {}\".format(train_test_setting))\n",
    "    print(\"Training shape: {}\".format(df.shape))\n",
    "    print(\"Test shape: {}\".format(df_test.shape))\n",
    "    print(\"Label split (#0, #1): \")\n",
    "    print(\"\\t({}, {})\".format(df.loc[df['Label']==0].shape[0], df.loc[df['Label']==1].shape[0]))\n",
    "    print(\"\\t({}, {})\".format(df_test.loc[df_test['Label']==0].shape[0], df_test.loc[df_test['Label']==1].shape[0]))\n",
    "\n",
    "elif train_test_setting == 'homogeneous':\n",
    "    \n",
    "    df = pd.concat([df1, df3, df5, df7, df9, df11, df13], axis=0, ignore_index=True)  # training set\n",
    "    df_test = pd.concat([df2, df4, df6, df8, df10, df12, df14], axis=0, ignore_index=True)  # test set\n",
    "#     df.columns = df.columns.str.decode('utf-8') \n",
    "#     df_test.columns = df_test.columns.str.decode('utf-8') \n",
    "    \n",
    "    if plot == 1:\n",
    "        df.Label.hist()\n",
    "        plt.title('Total training set')\n",
    "        plt.savefig('01hist_training_homoge.png')\n",
    "        df_test.Label.hist()\n",
    "        plt.title('Total test set')\n",
    "        plt.savefig('01hist_test_homoge.png')\n",
    "        \n",
    "    print(\"Setting: {}\".format(train_test_setting))\n",
    "    print(\"Training shape: {}\".format(df.shape))\n",
    "    print(\"Test shape: {}\".format(df_test.shape))\n",
    "    print(\"Label split (#0, #1): \")\n",
    "    print(\"\\t({}, {})\".format(df.loc[df['Label']==0].shape[0], df.loc[df['Label']==1].shape[0]))\n",
    "    print(\"\\t({}, {})\".format(df_test.loc[df_test['Label']==0].shape[0], df_test.loc[df_test['Label']==1].shape[0]))\n",
    "    \n",
    "elif train_test_setting == 'random':\n",
    "    \n",
    "    df_all  = pd.concat([df1, df2, df3, df4, df5, df6, df7, df8, df9, df10, df11, df12, df13, df14], \n",
    "                        axis=0, ignore_index=True)\n",
    "    df_label_all = df_all['Label']\n",
    "    df_ft_all = df_all.drop(['Label'], axis=1)\n",
    "    df_ft, df_ft_test, df_label, df_label_test = train_test_split(df_ft_all, df_label_all, \n",
    "                                                                  test_size=0.4, random_state=123)\n",
    "    \n",
    "    df = pd.concat([df_ft, df_label], axis=1)\n",
    "    df_test = pd.concat([df_ft_test, df_label_test], axis=1)\n",
    "#     df.columns = df.columns.str.decode('utf-8') \n",
    "#     df_test.columns = df_test.columns.str.decode('utf-8') \n",
    "    \n",
    "    if plot == 1:\n",
    "        df.Label.hist()\n",
    "        plt.title('Total training set')\n",
    "        plt.savefig('01hist_training_random.png')\n",
    "        df_test.Label.hist()\n",
    "        plt.title('Total test set')\n",
    "        plt.savefig('01hist_test_random.png')\n",
    "        \n",
    "    print(\"Setting: {}\".format(train_test_setting))\n",
    "    print(\"Training shape: {}\".format(df.shape))\n",
    "    print(\"Test shape: {}\".format(df_test.shape))\n",
    "    print(\"Label split (#0, #1): \")\n",
    "    print(\"\\t({}, {})\".format(df.loc[df['Label']==0].shape[0], df.loc[df['Label']==1].shape[0]))\n",
    "    print(\"\\t({}, {})\".format(df_test.loc[df_test['Label']==0].shape[0], df_test.loc[df_test['Label']==1].shape[0]))"
   ]
  },
  {
   "cell_type": "code",
   "execution_count": 14,
   "metadata": {},
   "outputs": [
    {
     "data": {
      "text/html": [
       "<div>\n",
       "<style scoped>\n",
       "    .dataframe tbody tr th:only-of-type {\n",
       "        vertical-align: middle;\n",
       "    }\n",
       "\n",
       "    .dataframe tbody tr th {\n",
       "        vertical-align: top;\n",
       "    }\n",
       "\n",
       "    .dataframe thead th {\n",
       "        text-align: right;\n",
       "    }\n",
       "</style>\n",
       "<table border=\"1\" class=\"dataframe\">\n",
       "  <thead>\n",
       "    <tr style=\"text-align: right;\">\n",
       "      <th></th>\n",
       "      <th>LabelTime</th>\n",
       "      <th>ChunkNum</th>\n",
       "      <th>LastData_1</th>\n",
       "      <th>LastData_2</th>\n",
       "      <th>LastData_3</th>\n",
       "      <th>LastData_4</th>\n",
       "      <th>LastData_5</th>\n",
       "      <th>LastData_6</th>\n",
       "      <th>LastData_7</th>\n",
       "      <th>LastData_8</th>\n",
       "      <th>...</th>\n",
       "      <th>OpenNodes_11</th>\n",
       "      <th>OpenNodes_12</th>\n",
       "      <th>OpenNodes_13</th>\n",
       "      <th>OpenNodes_14</th>\n",
       "      <th>OpenNodes_15</th>\n",
       "      <th>OpenNodes_16</th>\n",
       "      <th>Time_1</th>\n",
       "      <th>Time_2</th>\n",
       "      <th>Label</th>\n",
       "      <th>Set</th>\n",
       "    </tr>\n",
       "  </thead>\n",
       "  <tbody>\n",
       "    <tr>\n",
       "      <th>0</th>\n",
       "      <td>3600.0</td>\n",
       "      <td>4.0</td>\n",
       "      <td>1.307069</td>\n",
       "      <td>179.834395</td>\n",
       "      <td>157.0</td>\n",
       "      <td>11462.0</td>\n",
       "      <td>11459.000000</td>\n",
       "      <td>2092883.0</td>\n",
       "      <td>0.000262</td>\n",
       "      <td>1.0</td>\n",
       "      <td>...</td>\n",
       "      <td>0.0</td>\n",
       "      <td>0.0</td>\n",
       "      <td>-1.0</td>\n",
       "      <td>0.0</td>\n",
       "      <td>0.0</td>\n",
       "      <td>0.0</td>\n",
       "      <td>405.797494</td>\n",
       "      <td>10394.202511</td>\n",
       "      <td>1.0</td>\n",
       "      <td>Benchmark78</td>\n",
       "    </tr>\n",
       "    <tr>\n",
       "      <th>1</th>\n",
       "      <td>2400.0</td>\n",
       "      <td>3.0</td>\n",
       "      <td>1.984848</td>\n",
       "      <td>2.425926</td>\n",
       "      <td>270.0</td>\n",
       "      <td>260.0</td>\n",
       "      <td>259.500000</td>\n",
       "      <td>380071.0</td>\n",
       "      <td>0.001923</td>\n",
       "      <td>1.0</td>\n",
       "      <td>...</td>\n",
       "      <td>0.0</td>\n",
       "      <td>NaN</td>\n",
       "      <td>-1.0</td>\n",
       "      <td>0.0</td>\n",
       "      <td>0.0</td>\n",
       "      <td>NaN</td>\n",
       "      <td>364.252018</td>\n",
       "      <td>10435.747989</td>\n",
       "      <td>1.0</td>\n",
       "      <td>Benchmark78</td>\n",
       "    </tr>\n",
       "    <tr>\n",
       "      <th>2</th>\n",
       "      <td>3600.0</td>\n",
       "      <td>4.0</td>\n",
       "      <td>0.477915</td>\n",
       "      <td>6.947368</td>\n",
       "      <td>95.0</td>\n",
       "      <td>423.0</td>\n",
       "      <td>419.362911</td>\n",
       "      <td>124984.0</td>\n",
       "      <td>0.008598</td>\n",
       "      <td>1.0</td>\n",
       "      <td>...</td>\n",
       "      <td>0.0</td>\n",
       "      <td>0.0</td>\n",
       "      <td>-1.0</td>\n",
       "      <td>0.0</td>\n",
       "      <td>0.0</td>\n",
       "      <td>0.0</td>\n",
       "      <td>58.954801</td>\n",
       "      <td>10741.045204</td>\n",
       "      <td>1.0</td>\n",
       "      <td>Benchmark78</td>\n",
       "    </tr>\n",
       "  </tbody>\n",
       "</table>\n",
       "<p>3 rows × 128 columns</p>\n",
       "</div>"
      ],
      "text/plain": [
       "   LabelTime  ChunkNum  LastData_1  LastData_2  LastData_3  LastData_4  \\\n",
       "0     3600.0       4.0    1.307069  179.834395       157.0     11462.0   \n",
       "1     2400.0       3.0    1.984848    2.425926       270.0       260.0   \n",
       "2     3600.0       4.0    0.477915    6.947368        95.0       423.0   \n",
       "\n",
       "     LastData_5  LastData_6  LastData_7  LastData_8     ...       \\\n",
       "0  11459.000000   2092883.0    0.000262         1.0     ...        \n",
       "1    259.500000    380071.0    0.001923         1.0     ...        \n",
       "2    419.362911    124984.0    0.008598         1.0     ...        \n",
       "\n",
       "   OpenNodes_11  OpenNodes_12  OpenNodes_13  OpenNodes_14  OpenNodes_15  \\\n",
       "0           0.0           0.0          -1.0           0.0           0.0   \n",
       "1           0.0           NaN          -1.0           0.0           0.0   \n",
       "2           0.0           0.0          -1.0           0.0           0.0   \n",
       "\n",
       "   OpenNodes_16      Time_1        Time_2  Label          Set  \n",
       "0           0.0  405.797494  10394.202511    1.0  Benchmark78  \n",
       "1           NaN  364.252018  10435.747989    1.0  Benchmark78  \n",
       "2           0.0   58.954801  10741.045204    1.0  Benchmark78  \n",
       "\n",
       "[3 rows x 128 columns]"
      ]
     },
     "execution_count": 14,
     "metadata": {},
     "output_type": "execute_result"
    }
   ],
   "source": [
    "df.head(3)"
   ]
  },
  {
   "cell_type": "markdown",
   "metadata": {},
   "source": [
    "### Analyze label split wrt dataset of origin"
   ]
  },
  {
   "cell_type": "code",
   "execution_count": 15,
   "metadata": {},
   "outputs": [],
   "source": [
    "# frames = [df1, df2, df3, df4, df5, df6, df7, df8, df9, df10, df11, df12, df13, df14]"
   ]
  },
  {
   "cell_type": "code",
   "execution_count": 16,
   "metadata": {},
   "outputs": [
    {
     "name": "stdout",
     "output_type": "stream",
     "text": [
      "(1315, 128)\n"
     ]
    }
   ],
   "source": [
    "df_all  = pd.concat([df1, df2, df3, df4, df5, df6, df7, df8, df9, df10, df11, df12, df13, df14], \n",
    "                        axis=0, ignore_index=True)\n",
    "# df_all.columns = df_all.columns.str.decode('utf-8') \n",
    "print(df_all.shape)"
   ]
  },
  {
   "cell_type": "code",
   "execution_count": 17,
   "metadata": {},
   "outputs": [
    {
     "data": {
      "text/plain": [
       "True"
      ]
     },
     "execution_count": 17,
     "metadata": {},
     "output_type": "execute_result"
    }
   ],
   "source": [
    "'Set' in df_all.columns"
   ]
  },
  {
   "cell_type": "code",
   "execution_count": 18,
   "metadata": {},
   "outputs": [
    {
     "name": "stdout",
     "output_type": "stream",
     "text": [
      "(803, 128)\n",
      "(512, 128)\n"
     ]
    }
   ],
   "source": [
    "print(df_all.loc[df_all['Label']==1].shape)\n",
    "print(df_all.loc[df_all['Label']==0].shape)"
   ]
  },
  {
   "cell_type": "code",
   "execution_count": 19,
   "metadata": {},
   "outputs": [
    {
     "data": {
      "text/plain": [
       "38.93536121673004"
      ]
     },
     "execution_count": 19,
     "metadata": {},
     "output_type": "execute_result"
    }
   ],
   "source": [
    "512*100./1315"
   ]
  },
  {
   "cell_type": "code",
   "execution_count": 20,
   "metadata": {},
   "outputs": [
    {
     "data": {
      "image/png": "[encoded data removed]",
      "text/plain": [
       "<Figure size 360x504 with 1 Axes>"
      ]
     },
     "metadata": {},
     "output_type": "display_data"
    }
   ],
   "source": [
    "fig = plt.figure(figsize=(5, 7))\n",
    "\n",
    "N = 2\n",
    "\n",
    "benchmark_labels = (df_all.loc[(df_all['Label']==1) & (df_all['Set'] == 'Benchmark78')].shape[0], \n",
    "                    df_all.loc[(df_all['Label']==0) & (df_all['Set'] == 'Benchmark78')].shape[0])\n",
    "\n",
    "milplib_labels = (df_all.loc[(df_all['Label']==1) & (df_all['Set'] == 'MILPlib')].shape[0], \n",
    "                  df_all.loc[(df_all['Label']==0) & (df_all['Set'] == 'MILPlib')].shape[0])\n",
    "\n",
    "challenge_labels = (df_all.loc[(df_all['Label']==1) & (df_all['Set'] == 'Challenge160')].shape[0], \n",
    "                    df_all.loc[(df_all['Label']==0) & (df_all['Set'] == 'Challenge160')].shape[0])\n",
    "\n",
    "ind = [0.25, 0.55]    # the x locations for the groups\n",
    "width = 0.1       # the width of the bars: can also be len(x) sequence\n",
    "\n",
    "p1 = plt.bar(ind, benchmark_labels, width, align='center', alpha=.8, color='darkblue')\n",
    "p2 = plt.bar(ind, milplib_labels, width, bottom=benchmark_labels, align='center', color='darkorange', alpha=.8)\n",
    "p3 = plt.bar(ind, challenge_labels, width, bottom=np.array(milplib_labels)+np.array(benchmark_labels), align='center', \n",
    "             color='gold')\n",
    "\n",
    "plt.ylabel('# datapoints', fontsize=12)\n",
    "plt.title('Labels split - All datasets - 1315', fontsize=14)\n",
    "plt.xticks(ind, ('Label 1 - 61%', 'Label 0 - 39%'), fontsize=12)\n",
    "plt.xlim((-.5, 1.5))\n",
    "plt.yticks(np.arange(0, 1001, 100))\n",
    "plt.legend((p1[0], p2[0], p3[0]), ('Benchmark78', 'MILPlib', 'Challenge160'))\n",
    "\n",
    "plt.tight_layout()\n",
    "plt.xlim((0,.8))\n",
    "plt.tight_layout()\n",
    "# plt.savefig('label_bench_milplib_challenge_1315')\n",
    "\n",
    "plt.show()"
   ]
  },
  {
   "cell_type": "markdown",
   "metadata": {},
   "source": [
    "### Additional features"
   ]
  },
  {
   "cell_type": "markdown",
   "metadata": {},
   "source": [
    "- `Incumbent_A1` = `Incumbent_1`/`Depth_8`: # of incumbent updates over total number of branched nodes\n",
    "- `Incumbent_A5` = `Incumbent_5`/`LastData_4`: average incumbent improvement over incumbent value\n",
    "- `Incumbent_A9` = `Incumbent_9`/`Depth_8`: average distance between incumbent updates over total number of branched nodes\n",
    "- `Incumbent_A10` = `Incumbent_10`/`Incumbent_9`: distance from last update over average update distance\n",
    "\n",
    "\n",
    "- `BestBound_A1` = `BestBound_1`/`Depth_8`: # of best bound updates over total number of branched nodes\n",
    "- `BestBound_A5` = `BestBound_5`/`LastData_5`: average best bound improvement over best bound value\n",
    "- `BestBound_A9` = `BestBound_9`/`Depth_8`: average distance between best bound updates over total number of branched nodes\n",
    "- `BestBound_A10` = `BestBound_10`/`BestBound_9`: distance from last update over average update distance\n",
    "\n",
    "\n",
    "- `Depth_A1` = `Depth_1`/`LastData_9`: max depth over total number of processed nodes\n",
    "- `Depth_A2` = `Depth_2`/`Depth_1`: last full level over max depth\n",
    "\n",
    "\n",
    "- `Dives_A4` = `Dives_4`/`Depth_8`: # of changes in depth over total number of branched nodes"
   ]
  },
  {
   "cell_type": "code",
   "execution_count": 21,
   "metadata": {},
   "outputs": [],
   "source": [
    "df['Incumbent_A1'] = df['Incumbent_1']/df['Depth_8']\n",
    "df['Incumbent_A5'] = df['Incumbent_5']/df['LastData_4']\n",
    "df['Incumbent_A9'] = df['Incumbent_9']/df['Depth_8']\n",
    "df['Incumbent_A10'] = df['Incumbent_10']/df['Incumbent_9']\n",
    "\n",
    "df_test['Incumbent_A1'] = df_test['Incumbent_1']/df_test['Depth_8']\n",
    "df_test['Incumbent_A5'] = df_test['Incumbent_5']/df_test['LastData_4']\n",
    "df_test['Incumbent_A9'] = df_test['Incumbent_9']/df_test['Depth_8']\n",
    "df_test['Incumbent_A10'] = df_test['Incumbent_10']/df_test['Incumbent_9']"
   ]
  },
  {
   "cell_type": "code",
   "execution_count": 22,
   "metadata": {},
   "outputs": [],
   "source": [
    "df['BestBound_A1'] = df['BestBound_1']/df['Depth_8']\n",
    "df['BestBound_A5'] = df['BestBound_5']/df['LastData_5']\n",
    "df['BestBound_A9'] = df['BestBound_9']/df['Depth_8']\n",
    "df['BestBound_A10'] = df['BestBound_10']/df['BestBound_9']\n",
    "\n",
    "df_test['BestBound_A1'] = df_test['BestBound_1']/df_test['Depth_8']\n",
    "df_test['BestBound_A5'] = df_test['BestBound_5']/df_test['LastData_5']\n",
    "df_test['BestBound_A9'] = df_test['BestBound_9']/df_test['Depth_8']\n",
    "df_test['BestBound_A10'] = df_test['BestBound_10']/df_test['BestBound_9']"
   ]
  },
  {
   "cell_type": "code",
   "execution_count": 23,
   "metadata": {},
   "outputs": [],
   "source": [
    "df['Depth_A1'] = df['Depth_1']/df['LastData_9']\n",
    "df['Depth_A2'] = df['Depth_2']/df['Depth_1']\n",
    "\n",
    "df_test['Depth_A1'] = df_test['Depth_1']/df_test['LastData_9']\n",
    "df_test['Depth_A2'] = df_test['Depth_2']/df_test['Depth_1']"
   ]
  },
  {
   "cell_type": "code",
   "execution_count": 24,
   "metadata": {},
   "outputs": [],
   "source": [
    "df['Dives_A4'] = df['Dives_4']/df['Depth_8']\n",
    "\n",
    "df_test['Dives_A4'] = df_test['Dives_4']/df_test['Depth_8']"
   ]
  },
  {
   "cell_type": "code",
   "execution_count": 25,
   "metadata": {},
   "outputs": [
    {
     "name": "stdout",
     "output_type": "stream",
     "text": [
      "Training shape: (751, 139)\n",
      "Test shape: (564, 139)\n"
     ]
    }
   ],
   "source": [
    "print(\"Training shape: {}\".format(df.shape))\n",
    "print(\"Test shape: {}\".format(df_test.shape))"
   ]
  },
  {
   "cell_type": "code",
   "execution_count": 26,
   "metadata": {},
   "outputs": [
    {
     "name": "stdout",
     "output_type": "stream",
     "text": [
      "Full columns list: (len 139) \n",
      "['LabelTime', 'ChunkNum', 'LastData_1', 'LastData_2', 'LastData_3', 'LastData_4', 'LastData_5', 'LastData_6', 'LastData_7', 'LastData_8', 'LastData_9', 'LastData_10', 'LastData_11', 'LastData_12', 'LastData_13', 'LastData_14', 'LastData_15', 'LastData_16', 'LastData_17', 'LastData_18', 'LastData_19', 'LastData_20', 'LastData_21', 'LastData_22', 'LastData_23', 'LastData_24', 'Pruned_1', 'Pruned_2', 'Pruned_3', 'NodesLeft_1', 'NodesLeft_2', 'NodesLeft_3', 'NodesLeft_4', 'NodesLeft_5', 'NodesLeft_6', 'Iinf_1', 'Iinf_2', 'Iinf_3', 'Iinf_4', 'Iinf_5', 'Iinf_6', 'Iinf_7', 'ItCnt_1', 'IntFeas_1', 'IntFeas_2', 'IntFeas_3', 'Incumbent_1', 'Incumbent_2', 'Incumbent_3', 'Incumbent_4', 'Incumbent_5', 'Incumbent_6', 'Incumbent_7', 'Incumbent_8', 'Incumbent_9', 'Incumbent_10', 'BestBound_1', 'BestBound_2', 'BestBound_3', 'BestBound_4', 'BestBound_5', 'BestBound_6', 'BestBound_7', 'BestBound_8', 'BestBound_9', 'BestBound_10', 'Objective_1', 'Objective_2', 'Objective_3', 'Objective_4', 'Objective_5', 'Objective_6', 'Objective_7', 'ActiveConstr_1', 'ActiveConstr_2', 'FixedVars_1', 'FixedVars_2', 'FixedVars_3', 'FixedVars_4', 'FixedVars_5', 'FixedVars_6', 'Depth_1', 'Depth_2', 'Depth_3', 'Depth_4', 'Depth_5', 'Depth_6', 'Depth_7', 'Depth_8', 'Dives_1', 'Dives_2', 'Dives_3', 'Dives_4', 'Dives_5', 'Dives_6', 'Dives_7', 'Dives_8', 'Dives_9', 'Dives_10', 'Dives_11', 'Dives_12', 'Integral_1', 'Integral_2', 'Cuts_1', 'Cuts_2', 'Cuts_3', 'Cuts_4', 'Cuts_5', 'OpenNodes_1', 'OpenNodes_2', 'OpenNodes_3', 'OpenNodes_4', 'OpenNodes_5', 'OpenNodes_6', 'OpenNodes_7', 'OpenNodes_8', 'OpenNodes_9', 'OpenNodes_10', 'OpenNodes_11', 'OpenNodes_12', 'OpenNodes_13', 'OpenNodes_14', 'OpenNodes_15', 'OpenNodes_16', 'Time_1', 'Time_2', 'Label', 'Set', 'Incumbent_A1', 'Incumbent_A5', 'Incumbent_A9', 'Incumbent_A10', 'BestBound_A1', 'BestBound_A5', 'BestBound_A9', 'BestBound_A10', 'Depth_A1', 'Depth_A2', 'Dives_A4']\n"
     ]
    }
   ],
   "source": [
    "print(\"Full columns list: (len {}) \".format(len(df.columns.tolist())))\n",
    "print(df.columns.tolist())"
   ]
  },
  {
   "cell_type": "markdown",
   "metadata": {},
   "source": [
    "### Basic cleaning"
   ]
  },
  {
   "cell_type": "markdown",
   "metadata": {},
   "source": [
    "(for both training and test sets)\n",
    "\n",
    "0. Fix the columns that can be transformed\n",
    "1. Remove invalid ones (those with too many `nan` and `inf`)\n",
    "2. Select columns for experiments\n",
    "3. Remove single rows with invalid data\n",
    "\n",
    "In this way, the final shape of the dataset (# datapoints) depends on which columns where selected)"
   ]
  },
  {
   "cell_type": "code",
   "execution_count": 27,
   "metadata": {},
   "outputs": [],
   "source": [
    "# 1. Transform nans to 0\n",
    "# This is done for those columns representing slopes\n",
    "\n",
    "cols_nan_to_0 = ['NodesLeft_3', 'NodesLeft_4', 'NodesLeft_5', 'NodesLeft_6', \n",
    "                 'OpenNodes_1', 'OpenNodes_2', 'OpenNodes_3', 'OpenNodes_4', \n",
    "                 'OpenNodes_5', 'OpenNodes_6', 'OpenNodes_7', 'OpenNodes_8', \n",
    "                 'OpenNodes_9', 'OpenNodes_10', 'OpenNodes_11', 'OpenNodes_12', \n",
    "                 'OpenNodes_13', 'OpenNodes_14', 'OpenNodes_15', 'OpenNodes_16']\n",
    "\n",
    "# print df[cols_nan_to_0].isnull().sum()\n",
    "\n",
    "for col in cols_nan_to_0:\n",
    "    df[col].fillna(0, inplace=True)\n",
    "    df_test[col].fillna(0, inplace=True)\n",
    "\n",
    "# print df[cols_nan_to_0].isnull().sum()"
   ]
  },
  {
   "cell_type": "code",
   "execution_count": 28,
   "metadata": {},
   "outputs": [],
   "source": [
    "# 2. Remove invalid columns\n",
    "\n",
    "cols_invalid = ['Iinf_7', 'BestBound_6', 'Depth_6', 'Integral_1']\n",
    "\n",
    "df.drop(cols_invalid, axis=1, inplace=True)\n",
    "df_test.drop(cols_invalid, axis=1, inplace=True)"
   ]
  },
  {
   "cell_type": "markdown",
   "metadata": {},
   "source": [
    "Select columns for experiments, depending on `reduced_features`:"
   ]
  },
  {
   "cell_type": "code",
   "execution_count": 29,
   "metadata": {},
   "outputs": [
    {
     "name": "stdout",
     "output_type": "stream",
     "text": [
      "# of features selected: 37\n",
      "(751, 38)\n",
      "(564, 38)\n"
     ]
    },
    {
     "data": {
      "text/html": [
       "<div>\n",
       "<style scoped>\n",
       "    .dataframe tbody tr th:only-of-type {\n",
       "        vertical-align: middle;\n",
       "    }\n",
       "\n",
       "    .dataframe tbody tr th {\n",
       "        vertical-align: top;\n",
       "    }\n",
       "\n",
       "    .dataframe thead th {\n",
       "        text-align: right;\n",
       "    }\n",
       "</style>\n",
       "<table border=\"1\" class=\"dataframe\">\n",
       "  <thead>\n",
       "    <tr style=\"text-align: right;\">\n",
       "      <th></th>\n",
       "      <th>LastData_7</th>\n",
       "      <th>LastData_12</th>\n",
       "      <th>LastData_17</th>\n",
       "      <th>LastData_18</th>\n",
       "      <th>LastData_19</th>\n",
       "      <th>LastData_20</th>\n",
       "      <th>Pruned_2</th>\n",
       "      <th>Pruned_3</th>\n",
       "      <th>NodesLeft_2</th>\n",
       "      <th>Iinf_1</th>\n",
       "      <th>...</th>\n",
       "      <th>FixedVars_4</th>\n",
       "      <th>FixedVars_6</th>\n",
       "      <th>Depth_A1</th>\n",
       "      <th>Depth_A2</th>\n",
       "      <th>Depth_5</th>\n",
       "      <th>Dives_1</th>\n",
       "      <th>Dives_3</th>\n",
       "      <th>Dives_A4</th>\n",
       "      <th>Integral_2</th>\n",
       "      <th>Label</th>\n",
       "    </tr>\n",
       "  </thead>\n",
       "  <tbody>\n",
       "    <tr>\n",
       "      <th>0</th>\n",
       "      <td>0.000262</td>\n",
       "      <td>0.999738</td>\n",
       "      <td>0.007143</td>\n",
       "      <td>0.007143</td>\n",
       "      <td>0.999909</td>\n",
       "      <td>0.994272</td>\n",
       "      <td>0.346651</td>\n",
       "      <td>47.694268</td>\n",
       "      <td>0.0</td>\n",
       "      <td>0.159448</td>\n",
       "      <td>...</td>\n",
       "      <td>0.049809</td>\n",
       "      <td>0.000000</td>\n",
       "      <td>0.005324</td>\n",
       "      <td>0.008696</td>\n",
       "      <td>0.321739</td>\n",
       "      <td>34.0</td>\n",
       "      <td>0.005031</td>\n",
       "      <td>0.092249</td>\n",
       "      <td>18.440365</td>\n",
       "      <td>1.0</td>\n",
       "    </tr>\n",
       "    <tr>\n",
       "      <th>1</th>\n",
       "      <td>0.001923</td>\n",
       "      <td>0.998077</td>\n",
       "      <td>0.008000</td>\n",
       "      <td>0.004000</td>\n",
       "      <td>1.005769</td>\n",
       "      <td>0.992352</td>\n",
       "      <td>0.003030</td>\n",
       "      <td>0.003704</td>\n",
       "      <td>1.0</td>\n",
       "      <td>0.035931</td>\n",
       "      <td>...</td>\n",
       "      <td>0.051515</td>\n",
       "      <td>0.000000</td>\n",
       "      <td>0.530303</td>\n",
       "      <td>0.000000</td>\n",
       "      <td>0.462857</td>\n",
       "      <td>1.0</td>\n",
       "      <td>0.306991</td>\n",
       "      <td>0.003030</td>\n",
       "      <td>289.042487</td>\n",
       "      <td>1.0</td>\n",
       "    </tr>\n",
       "    <tr>\n",
       "      <th>2</th>\n",
       "      <td>0.008598</td>\n",
       "      <td>0.991402</td>\n",
       "      <td>1.000000</td>\n",
       "      <td>1.000000</td>\n",
       "      <td>0.999805</td>\n",
       "      <td>1.000000</td>\n",
       "      <td>0.440985</td>\n",
       "      <td>6.410526</td>\n",
       "      <td>0.0</td>\n",
       "      <td>0.540000</td>\n",
       "      <td>...</td>\n",
       "      <td>0.046572</td>\n",
       "      <td>0.011643</td>\n",
       "      <td>0.013034</td>\n",
       "      <td>0.277778</td>\n",
       "      <td>0.444444</td>\n",
       "      <td>5.0</td>\n",
       "      <td>0.012953</td>\n",
       "      <td>0.170763</td>\n",
       "      <td>6.173361</td>\n",
       "      <td>1.0</td>\n",
       "    </tr>\n",
       "  </tbody>\n",
       "</table>\n",
       "<p>3 rows × 38 columns</p>\n",
       "</div>"
      ],
      "text/plain": [
       "   LastData_7  LastData_12  LastData_17  LastData_18  LastData_19  \\\n",
       "0    0.000262     0.999738     0.007143     0.007143     0.999909   \n",
       "1    0.001923     0.998077     0.008000     0.004000     1.005769   \n",
       "2    0.008598     0.991402     1.000000     1.000000     0.999805   \n",
       "\n",
       "   LastData_20  Pruned_2   Pruned_3  NodesLeft_2    Iinf_1  ...    \\\n",
       "0     0.994272  0.346651  47.694268          0.0  0.159448  ...     \n",
       "1     0.992352  0.003030   0.003704          1.0  0.035931  ...     \n",
       "2     1.000000  0.440985   6.410526          0.0  0.540000  ...     \n",
       "\n",
       "   FixedVars_4  FixedVars_6  Depth_A1  Depth_A2   Depth_5  Dives_1   Dives_3  \\\n",
       "0     0.049809     0.000000  0.005324  0.008696  0.321739     34.0  0.005031   \n",
       "1     0.051515     0.000000  0.530303  0.000000  0.462857      1.0  0.306991   \n",
       "2     0.046572     0.011643  0.013034  0.277778  0.444444      5.0  0.012953   \n",
       "\n",
       "   Dives_A4  Integral_2  Label  \n",
       "0  0.092249   18.440365    1.0  \n",
       "1  0.003030  289.042487    1.0  \n",
       "2  0.170763    6.173361    1.0  \n",
       "\n",
       "[3 rows x 38 columns]"
      ]
     },
     "execution_count": 29,
     "metadata": {},
     "output_type": "execute_result"
    }
   ],
   "source": [
    "# 3. Select columns for experiments\n",
    "\n",
    "if reduced_features:\n",
    "    \n",
    "    cols_to_keep = ['LastData_7', 'LastData_12', \n",
    "                'LastData_17', 'LastData_18', 'LastData_19', 'LastData_20', # 'LastData_21', \n",
    "                'Pruned_2', 'Pruned_3', \n",
    "                'NodesLeft_2',\n",
    "                'Iinf_1', 'Iinf_2', 'Iinf_3', 'Iinf_5',\n",
    "                'ItCnt_1', \n",
    "                'IntFeas_2',\n",
    "                'Incumbent_2', 'Incumbent_A5', 'Incumbent_A9', 'Incumbent_A10', \n",
    "                'BestBound_2', 'BestBound_A5', 'BestBound_A9', 'BestBound_A10', \n",
    "                'Objective_3', 'Objective_5', 'Objective_6', \n",
    "                'FixedVars_1', 'FixedVars_2', 'FixedVars_4', 'FixedVars_6', \n",
    "                'Depth_A1', 'Depth_A2', 'Depth_5', \n",
    "                'Dives_1', 'Dives_3', 'Dives_A4', \n",
    "                'Integral_2', \n",
    "                'Label']\n",
    "    \n",
    "    df = df[cols_to_keep]\n",
    "    df_test = df_test[cols_to_keep]\n",
    "    \n",
    "    print(\"# of features selected: {}\".format(len(cols_to_keep) -1))\n",
    "    print(df.shape)\n",
    "    print(df_test.shape)\n",
    "    \n",
    "else:\n",
    "    \n",
    "    cols_to_keep = df.columns.tolist()\n",
    "    \n",
    "    print(\"# of features selected: {}\".format(len(cols_to_keep) -1))\n",
    "    print(df.shape)\n",
    "    print(df_test.shape)\n",
    "    \n",
    "df.head(3)"
   ]
  },
  {
   "cell_type": "code",
   "execution_count": 30,
   "metadata": {},
   "outputs": [
    {
     "name": "stdout",
     "output_type": "stream",
     "text": [
      "Final shape of training: (594, 38)\n",
      "Final shape of test: (376, 38)\n",
      "Total # datapoints: 970\n",
      "Label split (#0, #1): \n",
      "\t(198, 396)\n",
      "\t(136, 240)\n"
     ]
    }
   ],
   "source": [
    "# 4. Clean-up single rows with NaNs\n",
    "\n",
    "df = clean_dataset(df)\n",
    "df_test = clean_dataset(df_test)\n",
    "\n",
    "print(\"Final shape of training: {}\".format(df.shape))\n",
    "print(\"Final shape of test: {}\".format(df_test.shape))\n",
    "print(\"Total # datapoints: {}\".format(df.shape[0] + df_test.shape[0]))\n",
    "print(\"Label split (#0, #1): \")\n",
    "print(\"\\t({}, {})\".format(df.loc[df['Label']==0].shape[0], df.loc[df['Label']==1].shape[0]))\n",
    "print(\"\\t({}, {})\".format(df_test.loc[df_test['Label']==0].shape[0], df_test.loc[df_test['Label']==1].shape[0]))"
   ]
  },
  {
   "cell_type": "code",
   "execution_count": 31,
   "metadata": {},
   "outputs": [],
   "source": [
    "# print(df.loc[df['Label']==1].shape, df.loc[df['Label']==0].shape)\n",
    "# print(df_test.loc[df_test['Label']==1].shape, df_test.loc[df_test['Label']==0].shape)"
   ]
  },
  {
   "cell_type": "markdown",
   "metadata": {},
   "source": [
    "Eventually set up results folder:"
   ]
  },
  {
   "cell_type": "code",
   "execution_count": 32,
   "metadata": {
    "scrolled": true
   },
   "outputs": [
    {
     "name": "stdout",
     "output_type": "stream",
     "text": [
      "Created results folder: /Users/giuliazarpellon/GitProjects/GAP_prediction/dat/py35_results_homogeneous_ft_37\n"
     ]
    }
   ],
   "source": [
    "if save_results:\n",
    "    setting_info = train_test_setting+'_ft_'+str(len(cols_to_keep)-1)         \n",
    "    results_path = dat_path + 'py35_results_'+setting_info \n",
    "    try:\n",
    "        os.mkdir(results_path)\n",
    "    except OSError:\n",
    "        if not os.path.isdir(results_path):\n",
    "            raise\n",
    "\n",
    "    print(\"Created results folder: {}\".format(results_path))\n",
    "    os.chdir(results_path)\n",
    "    \n",
    "    joblib.dump(cols_to_keep, 'features_list.pkl')"
   ]
  },
  {
   "cell_type": "markdown",
   "metadata": {},
   "source": [
    "### Features correlation"
   ]
  },
  {
   "cell_type": "markdown",
   "metadata": {},
   "source": [
    "- Features `LastData8`, `NodesLeft_1` and `IntFeas_1` appear to assume always the same value. We remove it from the dataset.\n",
    "\n",
    "- As expected, `Incumbent_A1` and `Incumbent_2` (as `BestBound_A1` and `BestBound_2`) are very much correlated. We only keep one of the two.\n",
    "\n",
    "We will then work with 40 features."
   ]
  },
  {
   "cell_type": "code",
   "execution_count": 33,
   "metadata": {},
   "outputs": [
    {
     "data": {
      "image/png": "[encoded data removed]",
      "text/plain": [
       "<Figure size 648x648 with 2 Axes>"
      ]
     },
     "metadata": {},
     "output_type": "display_data"
    }
   ],
   "source": [
    "grid_kws = {\"height_ratios\": (1.5, .05), \"hspace\": .05}\n",
    "fig, (ax, cbar_ax) = plt.subplots(2, gridspec_kw=grid_kws, figsize=(9,9))\n",
    "\n",
    "corr = df.drop(['Label'], axis=1).corr()\n",
    "ax = sns.heatmap(corr, ax=ax, square=True, cmap=\"RdBu_r\", xticklabels=False, yticklabels=range(1,len(cols_to_keep)),\n",
    "                 cbar=True, cbar_ax=cbar_ax, cbar_kws={\"orientation\": \"horizontal\"})\n",
    "\n",
    "ax.set_title(\"Features correlation - Selection of \"+ str(len(cols_to_keep)-1), fontsize=14)\n",
    "\n",
    "if save_results:\n",
    "    plt.savefig('ft_correlation.png')"
   ]
  },
  {
   "cell_type": "markdown",
   "metadata": {},
   "source": [
    "### Define and train ML models"
   ]
  },
  {
   "cell_type": "code",
   "execution_count": 34,
   "metadata": {},
   "outputs": [
    {
     "name": "stdout",
     "output_type": "stream",
     "text": [
      "(594, 37) (594, 1)\n",
      "(376, 37) (376, 1)\n"
     ]
    },
    {
     "name": "stderr",
     "output_type": "stream",
     "text": [
      "/anaconda3/lib/python3.5/site-packages/ipykernel_launcher.py:4: FutureWarning: Method .as_matrix will be removed in a future version. Use .values instead.\n",
      "  after removing the cwd from sys.path.\n",
      "/anaconda3/lib/python3.5/site-packages/ipykernel_launcher.py:10: FutureWarning: Method .as_matrix will be removed in a future version. Use .values instead.\n",
      "  # Remove the CWD from sys.path while we load stuff.\n"
     ]
    }
   ],
   "source": [
    "X_train = df.drop(['Label'], axis=1)\n",
    "X_train = X_train.astype(np.float64)\n",
    "\n",
    "y_train = df.as_matrix(columns=['Label'])\n",
    "y_train = y_train.astype(np.float64)\n",
    "\n",
    "X_test = df_test.drop(['Label'], axis=1)\n",
    "X_test = X_test.astype(np.float64)\n",
    "\n",
    "y_test = df_test.as_matrix(columns=['Label'])\n",
    "y_test = y_test.astype(np.float64)\n",
    "\n",
    "print(X_train.shape, y_train.shape)\n",
    "print(X_test.shape, y_test.shape)"
   ]
  },
  {
   "cell_type": "code",
   "execution_count": 42,
   "metadata": {},
   "outputs": [
    {
     "data": {
      "text/plain": [
       "array([2.61734427e-04, 9.99738266e-01, 7.14285714e-03, 7.14285714e-03,\n",
       "       9.99909063e-01, 9.94272228e-01, 3.46650618e-01, 4.76942675e+01,\n",
       "       0.00000000e+00, 1.59448187e-01, 0.00000000e+00, 5.32408566e-02,\n",
       "       4.85333711e-02, 9.60000000e+01, 1.00000000e+00, 6.48118143e-04,\n",
       "       2.31202144e-06, 6.77797121e-02, 7.11864407e-01, 9.73566039e-02,\n",
       "       7.64942814e-06, 4.03615125e-04, 1.05325543e+00, 5.00212555e-02,\n",
       "       2.78147483e+02, 2.81147483e+02, 8.80333654e-01, 1.77414180e-01,\n",
       "       4.98087006e-02, 0.00000000e+00, 5.32382760e-03, 8.69565217e-03,\n",
       "       3.21739130e-01, 3.40000000e+01, 5.03082265e-03, 9.22488309e-02,\n",
       "       1.84403649e+01])"
      ]
     },
     "execution_count": 42,
     "metadata": {},
     "output_type": "execute_result"
    }
   ],
   "source": [
    "X_train.iloc[0].values"
   ]
  },
  {
   "cell_type": "code",
   "execution_count": 46,
   "metadata": {},
   "outputs": [
    {
     "data": {
      "text/plain": [
       "1.0"
      ]
     },
     "execution_count": 46,
     "metadata": {},
     "output_type": "execute_result"
    }
   ],
   "source": [
    "y_train[0]"
   ]
  },
  {
   "cell_type": "code",
   "execution_count": 43,
   "metadata": {},
   "outputs": [],
   "source": [
    "y_train = y_train.flatten()\n",
    "y_test = y_test.flatten()"
   ]
  },
  {
   "cell_type": "code",
   "execution_count": 44,
   "metadata": {},
   "outputs": [
    {
     "name": "stdout",
     "output_type": "stream",
     "text": [
      "(594, 37) (594,)\n",
      "(376, 37) (376,)\n"
     ]
    }
   ],
   "source": [
    "print(X_train.shape, y_train.shape)\n",
    "print(X_test.shape, y_test.shape)"
   ]
  },
  {
   "cell_type": "code",
   "execution_count": 40,
   "metadata": {},
   "outputs": [],
   "source": [
    "# Neural networks and SVM are sensitive to feature scaling, \n",
    "# hence we scale all features to have mean 0 and standard deviation 1\n",
    "\n",
    "scaler = StandardScaler()\n",
    "# Fit only to the training data\n",
    "scaler.fit(X_train)\n",
    "# Now apply the transformations to the data (train and test)\n",
    "#X_test_no_transform = X_test.copy()\n",
    "X_train = scaler.transform(X_train)\n",
    "X_test = scaler.transform(X_test)\n",
    "\n",
    "# Scaler object is saved for future points\n",
    "if save_results:\n",
    "    joblib.dump(scaler, 'scaler.pkl')"
   ]
  },
  {
   "cell_type": "code",
   "execution_count": 41,
   "metadata": {},
   "outputs": [],
   "source": [
    "models = OrderedDict()\n",
    "models['dummy_class'] = DummyClassifier(strategy='stratified', random_state=0)\n",
    "models['logistic_regression'] = LogisticRegression(fit_intercept=True)\n",
    "models['svc'] = SVC()\n",
    "models['random_forest'] = RandomForestClassifier(random_state=0)\n",
    "models['extra_trees'] = ExtraTreesClassifier(random_state=0)\n",
    "models['neural_network'] = MLPClassifier(hidden_layer_sizes=(2, ), activation='tanh', solver='lbfgs', alpha=0.0001,\n",
    "                                         batch_size='auto', learning_rate='constant', learning_rate_init=0.001, \n",
    "                                         power_t=0.5, max_iter=500, shuffle=True, random_state=None, tol=0.00001, \n",
    "                                         verbose=True, early_stopping=False, validation_fraction=0.1)\n",
    "\n",
    "parameters = OrderedDict()\n",
    "parameters['dummy_class'] = [{}]\n",
    "parameters['logistic_regression'] = [{}]\n",
    "parameters['svc'] = [{'kernel': ['rbf'], 'gamma': [1e-2, 1e-3, 1e-4], 'C': [10, 100, 1000, 10000]}]\n",
    "parameters['random_forest'] = [{'n_estimators': [100, 200, 500, 1000, 1500], 'max_depth': [5, 10, 15]}]\n",
    "parameters['extra_trees'] = [{'n_estimators': [100, 200, 500, 1000, 1500], 'max_depth': [5, 10, 15]}]\n",
    "parameters['neural_network'] = [{'hidden_layer_sizes': [(5, ), (10, ), (15, ), (20, ), (5, 5), (10, 5), (15, 5)],\n",
    "                                 'learning_rate_init': [1e-1, 1e-2, 1e-3],\n",
    "                                 'alpha':  [1e-2, 1e-3, 1e-4],\n",
    "                                 'activation': ['tanh', 'relu', 'logistic']}]"
   ]
  },
  {
   "cell_type": "code",
   "execution_count": 42,
   "metadata": {},
   "outputs": [
    {
     "data": {
      "text/plain": [
       "'/Users/giuliazarpellon/GitProjects/GAP_prediction/dat/py35_results_homogeneous_ft_37'"
      ]
     },
     "execution_count": 42,
     "metadata": {},
     "output_type": "execute_result"
    }
   ],
   "source": [
    "os.getcwd()"
   ]
  },
  {
   "cell_type": "code",
   "execution_count": 50,
   "metadata": {},
   "outputs": [
    {
     "name": "stderr",
     "output_type": "stream",
     "text": [
      "/anaconda3/lib/python3.5/site-packages/sklearn/linear_model/logistic.py:433: FutureWarning: Default solver will be changed to 'lbfgs' in 0.22. Specify a solver to silence this warning.\n",
      "  FutureWarning)\n",
      "/anaconda3/lib/python3.5/site-packages/sklearn/model_selection/_split.py:2053: FutureWarning: You should specify a value for 'cv' instead of relying on the default value. The default value will change from 3 to 5 in version 0.22.\n",
      "  warnings.warn(CV_WARNING, FutureWarning)\n",
      "/anaconda3/lib/python3.5/site-packages/sklearn/model_selection/_split.py:2053: FutureWarning: You should specify a value for 'cv' instead of relying on the default value. The default value will change from 3 to 5 in version 0.22.\n",
      "  warnings.warn(CV_WARNING, FutureWarning)\n"
     ]
    },
    {
     "data": {
      "image/png": "[encoded data removed]",
      "text/plain": [
       "<Figure size 720x504 with 1 Axes>"
      ]
     },
     "metadata": {},
     "output_type": "display_data"
    },
    {
     "name": "stderr",
     "output_type": "stream",
     "text": [
      "/anaconda3/lib/python3.5/site-packages/sklearn/model_selection/_split.py:2053: FutureWarning: You should specify a value for 'cv' instead of relying on the default value. The default value will change from 3 to 5 in version 0.22.\n",
      "  warnings.warn(CV_WARNING, FutureWarning)\n"
     ]
    },
    {
     "data": {
      "image/png": "[encoded data removed]",
      "text/plain": [
       "<Figure size 720x504 with 1 Axes>"
      ]
     },
     "metadata": {},
     "output_type": "display_data"
    },
    {
     "name": "stderr",
     "output_type": "stream",
     "text": [
      "/anaconda3/lib/python3.5/site-packages/sklearn/model_selection/_split.py:2053: FutureWarning: You should specify a value for 'cv' instead of relying on the default value. The default value will change from 3 to 5 in version 0.22.\n",
      "  warnings.warn(CV_WARNING, FutureWarning)\n"
     ]
    }
   ],
   "source": [
    "scores = OrderedDict()  # to save [accuracy, precision, recall, f1-score, rmse]\n",
    "target_names = ['Class 0', 'Class 1']\n",
    "\n",
    "# set output file for results backup and perform experiments\n",
    "# std = sys.stdout\n",
    "# report = open('learning_full_report.txt', 'wb') \n",
    "# sys.stdout = report\n",
    "\n",
    "with open('learning_full_report.txt', 'w') as f:\n",
    "    \n",
    "    for model_name in models.keys():\n",
    "        print(\"#############################\\n\", file=f, flush=True)\n",
    "        print(\"Model: {}\\n\".format(model_name), file=f, flush=True)\n",
    "        # select model and tuned_parameters\n",
    "        model = models[model_name]\n",
    "        tuned_parameters = parameters[model_name]\n",
    "\n",
    "        if model_name in ['dummy_class']:\n",
    "            X_converted, y_converted = check_X_y(X_train, y_train)\n",
    "            model.fit(X_converted, y_converted)\n",
    "\n",
    "            y_test_pred = model.predict(X_test)\n",
    "            score = model.score(X_test, y_test)\n",
    "            rmse =  np.sqrt(mean_squared_error(y_test, y_test_pred))\n",
    "            print(\"Accuracy score: {}\\n\".format(score), file=f)\n",
    "            print(classification_report(y_test, y_test_pred, target_names=target_names), file=f)\n",
    "            scores[model_name] = [score, \n",
    "                                  metrics.precision_score(y_test, y_test_pred), \n",
    "                                  metrics.recall_score(y_test, y_test_pred), \n",
    "                                  metrics.f1_score(y_test, y_test_pred), \n",
    "                                  rmse]\n",
    "            if save_results:\n",
    "                joblib.dump(model, model_name +'.pkl')\n",
    "\n",
    "        elif model_name in ['logistic_regression']:\n",
    "            model.fit(X_train, y_train)\n",
    "            y_test_pred = model.predict(X_test)\n",
    "\n",
    "            score = model.score(X_test, y_test)\n",
    "            rmse =  np.sqrt(mean_squared_error(y_test, y_test_pred))\n",
    "            print(\"Accuracy score: {}\\n\".format(score), file=f)\n",
    "            print(classification_report(y_test, y_test_pred, target_names=target_names), file=f)\n",
    "            scores[model_name] = [score, \n",
    "                                  metrics.precision_score(y_test, y_test_pred), \n",
    "                                  metrics.recall_score(y_test, y_test_pred), \n",
    "                                  metrics.f1_score(y_test, y_test_pred), \n",
    "                                  rmse]\n",
    "            if save_results:\n",
    "                joblib.dump(model, model_name +'.pkl')\n",
    "\n",
    "        else:  # Do cross-validation\n",
    "            print(model.get_params(), file=f)\n",
    "\n",
    "            # logo = LeaveOneGroupOut()\n",
    "            # print(logo.get_n_splits(X_train, y_train, groups_train))\n",
    "            # clf = GridSearchCV(model, tuned_parameters, cv=logo.split(X_train, y_train, groups_train))\n",
    "            clf = GridSearchCV(model, tuned_parameters)  # 3-fold (default)\n",
    "            clf.fit(X_train, y_train)\n",
    "\n",
    "            print(\"\\nBest parameters set found on development set:\", file=f)\n",
    "            print(clf.best_params_, file=f)\n",
    "            print(\"\\nGrid scores on development set:\", file=f)\n",
    "            means = clf.cv_results_['mean_test_score']\n",
    "            stds = clf.cv_results_['std_test_score']\n",
    "            for mean, std, params in zip(means, stds, clf.cv_results_['params']):\n",
    "                print(\"%0.3f (+/-%0.03f) for %r\" % (mean, std * 2, params), file=f)\n",
    "\n",
    "            print(\"\\nDetailed classification report:\", file=f)\n",
    "\n",
    "            print(\"\\nThe model is trained on the full development set.\", file=f)\n",
    "            print(\"The scores are computed on the full evaluation set.\\n\", file=f)\n",
    "\n",
    "            y_test_pred = clf.predict(X_test)\n",
    "\n",
    "            score = clf.score(X_test, y_test)\n",
    "            rmse =  np.sqrt(mean_squared_error(y_test, y_test_pred))\n",
    "            print(\"Accuracy score: {}\\n\".format(score), file=f)\n",
    "            print(classification_report(y_test, y_test_pred, target_names=target_names), file=f)\n",
    "            scores[model_name] = [score, \n",
    "                                  metrics.precision_score(y_test, y_test_pred), \n",
    "                                  metrics.recall_score(y_test, y_test_pred), \n",
    "                                  metrics.f1_score(y_test, y_test_pred), \n",
    "                                  rmse]\n",
    "            best_est = clf.best_estimator_\n",
    "            best_par = clf.best_params_\n",
    "            if save_results:\n",
    "                joblib.dump(best_est, model_name +'.pkl')\n",
    "                \n",
    "            # features importance\n",
    "            if model_name in ['extra_trees', 'random_forest']:\n",
    "                # use best_par to fit new clf\n",
    "                clf_ft = models[model_name]\n",
    "                clf_ft.n_estimators = best_par['n_estimators']\n",
    "                clf_ft.max_depth = best_par['max_depth']\n",
    "#                 print best_par\n",
    "#                 print clf_ft.get_params()\n",
    "                clf_ft.fit(X_train, y_train)\n",
    "                importances = clf_ft.feature_importances_\n",
    "                # print importances\n",
    "                std = np.std([tree.feature_importances_ for tree in clf_ft.estimators_], axis=0)\n",
    "                indices = np.argsort(importances)[::-1]\n",
    "                print(\"Feature ranking:\\n\", file=f)\n",
    "                for i in range(10):\n",
    "                    print(\"%d. feature #%d (%f)\" % (i + 1, indices[i], importances[indices[i]]), \"\\t\", df.columns[indices[i]], file=f)\n",
    "                if save_results:\n",
    "                    joblib.dump([importances, std, indices], model_name + '_features_scores.pkl')\n",
    "\n",
    "                # Plot the feature importances\n",
    "                plt.figure(figsize=(10, 7))\n",
    "                plt.title(\"Feature importances - \" + model_name, fontsize=14)\n",
    "                plt.bar(range(X_train.shape[1]), importances[indices],\n",
    "                        color=\"darkorange\", yerr=std[indices], align=\"center\")\n",
    "                plt.xticks(range(X_train.shape[1]), indices)\n",
    "                plt.xlim([-1, X_train.shape[1]])\n",
    "                plt.xlabel(\"Feature ID\", fontsize=12)\n",
    "                plt.ylabel(\"Score\", fontsize=12)\n",
    "                plt.savefig(model_name + '_ft_importance.png')\n",
    "                plt.show()\n",
    "                \n",
    "        # For all models: \n",
    "        cm = metrics.confusion_matrix(y_test, y_test_pred)\n",
    "        print(\"\\nConfusion matrix: \", file=f)\n",
    "        print(\"{}\\n\".format(cm), file=f)\n",
    "\n",
    "        if plot == 1 :\n",
    "            plt.figure(figsize=(3,3))\n",
    "            cm = cm.astype('float')*100 / cm.sum(axis=1)[:, np.newaxis]  # normalized\n",
    "            sns.heatmap(cm, annot=True, fmt=\".3f\", linewidths=.5, square = True, cmap = 'Blues_r');\n",
    "            plt.ylabel('Actual label');\n",
    "            plt.xlabel('Predicted label');\n",
    "            all_sample_title = 'Accuracy Score: {0}'.format(score)\n",
    "            plt.title(all_sample_title, size = 15);\n",
    "\n",
    "            plt.show()       \n",
    "f.close()\n",
    "        \n",
    "# sys.stdout = std         \n",
    "# report.close()"
   ]
  },
  {
   "cell_type": "code",
   "execution_count": 51,
   "metadata": {},
   "outputs": [],
   "source": [
    "# Save classification performance: \n",
    "if save_results:\n",
    "    joblib.dump(scores, 'clf_scores.pkl')\n",
    "# load as\n",
    "# scores = joblib.load('clf_scores.pkl')"
   ]
  },
  {
   "cell_type": "code",
   "execution_count": 53,
   "metadata": {},
   "outputs": [
    {
     "name": "stdout",
     "output_type": "stream",
     "text": [
      "OrderedDict([('dummy_class', [0.5930851063829787, 0.6719367588932806, 0.7083333333333334, 0.6896551724137931, 0.6378988114246814]), ('logistic_regression', [0.9042553191489362, 0.8923076923076924, 0.9666666666666667, 0.928, 0.309426373877638]), ('svc', [0.9095744680851063, 0.905511811023622, 0.9583333333333334, 0.9311740890688259, 0.30070838351282064]), ('random_forest', [0.9388297872340425, 0.9539748953974896, 0.95, 0.9519832985386221, 0.24732612633112064]), ('extra_trees', [0.9468085106382979, 0.9583333333333334, 0.9583333333333334, 0.9583333333333334, 0.23063280200722128]), ('neural_network', [0.8670212765957447, 0.841726618705036, 0.975, 0.9034749034749034, 0.3646624787447364])])\n"
     ]
    }
   ],
   "source": [
    "print(scores)"
   ]
  },
  {
   "cell_type": "code",
   "execution_count": 54,
   "metadata": {},
   "outputs": [
    {
     "data": {
      "text/html": [
       "<div>\n",
       "<style scoped>\n",
       "    .dataframe tbody tr th:only-of-type {\n",
       "        vertical-align: middle;\n",
       "    }\n",
       "\n",
       "    .dataframe tbody tr th {\n",
       "        vertical-align: top;\n",
       "    }\n",
       "\n",
       "    .dataframe thead th {\n",
       "        text-align: right;\n",
       "    }\n",
       "</style>\n",
       "<table border=\"1\" class=\"dataframe\">\n",
       "  <thead>\n",
       "    <tr style=\"text-align: right;\">\n",
       "      <th></th>\n",
       "      <th>accuracy</th>\n",
       "      <th>precision</th>\n",
       "      <th>recall</th>\n",
       "      <th>f1-score</th>\n",
       "      <th>rmse</th>\n",
       "    </tr>\n",
       "  </thead>\n",
       "  <tbody>\n",
       "    <tr>\n",
       "      <th>dummy_class</th>\n",
       "      <td>0.593085</td>\n",
       "      <td>0.671937</td>\n",
       "      <td>0.708333</td>\n",
       "      <td>0.689655</td>\n",
       "      <td>0.637899</td>\n",
       "    </tr>\n",
       "    <tr>\n",
       "      <th>logistic_regression</th>\n",
       "      <td>0.904255</td>\n",
       "      <td>0.892308</td>\n",
       "      <td>0.966667</td>\n",
       "      <td>0.928000</td>\n",
       "      <td>0.309426</td>\n",
       "    </tr>\n",
       "    <tr>\n",
       "      <th>svc</th>\n",
       "      <td>0.909574</td>\n",
       "      <td>0.905512</td>\n",
       "      <td>0.958333</td>\n",
       "      <td>0.931174</td>\n",
       "      <td>0.300708</td>\n",
       "    </tr>\n",
       "    <tr>\n",
       "      <th>random_forest</th>\n",
       "      <td>0.938830</td>\n",
       "      <td>0.953975</td>\n",
       "      <td>0.950000</td>\n",
       "      <td>0.951983</td>\n",
       "      <td>0.247326</td>\n",
       "    </tr>\n",
       "    <tr>\n",
       "      <th>extra_trees</th>\n",
       "      <td>0.946809</td>\n",
       "      <td>0.958333</td>\n",
       "      <td>0.958333</td>\n",
       "      <td>0.958333</td>\n",
       "      <td>0.230633</td>\n",
       "    </tr>\n",
       "    <tr>\n",
       "      <th>neural_network</th>\n",
       "      <td>0.867021</td>\n",
       "      <td>0.841727</td>\n",
       "      <td>0.975000</td>\n",
       "      <td>0.903475</td>\n",
       "      <td>0.364662</td>\n",
       "    </tr>\n",
       "  </tbody>\n",
       "</table>\n",
       "</div>"
      ],
      "text/plain": [
       "                     accuracy  precision    recall  f1-score      rmse\n",
       "dummy_class          0.593085   0.671937  0.708333  0.689655  0.637899\n",
       "logistic_regression  0.904255   0.892308  0.966667  0.928000  0.309426\n",
       "svc                  0.909574   0.905512  0.958333  0.931174  0.300708\n",
       "random_forest        0.938830   0.953975  0.950000  0.951983  0.247326\n",
       "extra_trees          0.946809   0.958333  0.958333  0.958333  0.230633\n",
       "neural_network       0.867021   0.841727  0.975000  0.903475  0.364662"
      ]
     },
     "execution_count": 54,
     "metadata": {},
     "output_type": "execute_result"
    }
   ],
   "source": [
    "scores_df = pd.DataFrame.from_dict(scores, orient='index')\n",
    "scores_df.columns=['accuracy', 'precision', 'recall', 'f1-score', 'rmse']\n",
    "scores_df"
   ]
  },
  {
   "cell_type": "code",
   "execution_count": 55,
   "metadata": {},
   "outputs": [
    {
     "name": "stdout",
     "output_type": "stream",
     "text": [
      "\\begin{tabular}{lrrrrr}\n",
      "\\toprule\n",
      "{} &  accuracy &  precision &    recall &  f1-score &      rmse \\\\\n",
      "\\midrule\n",
      "dummy\\_class         &  0.593085 &   0.671937 &  0.708333 &  0.689655 &  0.637899 \\\\\n",
      "logistic\\_regression &  0.904255 &   0.892308 &  0.966667 &  0.928000 &  0.309426 \\\\\n",
      "svc                 &  0.909574 &   0.905512 &  0.958333 &  0.931174 &  0.300708 \\\\\n",
      "random\\_forest       &  0.938830 &   0.953975 &  0.950000 &  0.951983 &  0.247326 \\\\\n",
      "extra\\_trees         &  0.946809 &   0.958333 &  0.958333 &  0.958333 &  0.230633 \\\\\n",
      "neural\\_network      &  0.867021 &   0.841727 &  0.975000 &  0.903475 &  0.364662 \\\\\n",
      "\\bottomrule\n",
      "\\end{tabular}\n",
      "\n"
     ]
    }
   ],
   "source": [
    "print(scores_df.to_latex())"
   ]
  },
  {
   "cell_type": "markdown",
   "metadata": {},
   "source": [
    "### Experiments logs"
   ]
  },
  {
   "cell_type": "raw",
   "metadata": {},
   "source": [
    "Model:  random_forest \n",
    "\n",
    "{'warm_start': False, 'oob_score': False, 'n_jobs': 1, 'min_impurity_decrease': 0.0, 'verbose': 0, 'max_leaf_nodes': None, 'bootstrap': True, 'min_samples_leaf': 1, 'n_estimators': 10, 'min_samples_split': 2, 'min_weight_fraction_leaf': 0.0, 'criterion': 'gini', 'random_state': None, 'min_impurity_split': None, 'max_features': 'auto', 'max_depth': None, 'class_weight': None}\n",
    "\n",
    "Best parameters set found on development set:\n",
    "{'n_estimators': 150, 'max_depth': 10}\n",
    "\n",
    "Grid scores on development set:\n",
    "0.936 (+/-0.032) for {'n_estimators': 10, 'max_depth': 5}\n",
    "0.933 (+/-0.022) for {'n_estimators': 25, 'max_depth': 5}\n",
    "0.929 (+/-0.030) for {'n_estimators': 50, 'max_depth': 5}\n",
    "0.936 (+/-0.034) for {'n_estimators': 100, 'max_depth': 5}\n",
    "0.927 (+/-0.034) for {'n_estimators': 150, 'max_depth': 5}\n",
    "0.935 (+/-0.033) for {'n_estimators': 200, 'max_depth': 5}\n",
    "0.918 (+/-0.048) for {'n_estimators': 10, 'max_depth': 10}\n",
    "0.938 (+/-0.012) for {'n_estimators': 25, 'max_depth': 10}\n",
    "0.938 (+/-0.024) for {'n_estimators': 50, 'max_depth': 10}\n",
    "0.939 (+/-0.023) for {'n_estimators': 100, 'max_depth': 10}\n",
    "0.944 (+/-0.012) for {'n_estimators': 150, 'max_depth': 10}\n",
    "0.939 (+/-0.023) for {'n_estimators': 200, 'max_depth': 10}\n",
    "0.939 (+/-0.018) for {'n_estimators': 10, 'max_depth': 15}\n",
    "0.939 (+/-0.034) for {'n_estimators': 25, 'max_depth': 15}\n",
    "0.939 (+/-0.009) for {'n_estimators': 50, 'max_depth': 15}\n",
    "0.941 (+/-0.013) for {'n_estimators': 100, 'max_depth': 15}\n",
    "0.941 (+/-0.020) for {'n_estimators': 150, 'max_depth': 15}\n",
    "0.941 (+/-0.023) for {'n_estimators': 200, 'max_depth': 15}\n",
    "\n",
    "Detailed classification report:\n",
    "\n",
    "The model is trained on the full development set.\n",
    "The scores are computed on the full evaluation set.\n",
    "\n",
    "             precision    recall  f1-score   support\n",
    "\n",
    "    Class 0       0.95      0.92      0.93       108\n",
    "    Class 1       0.96      0.98      0.97       241\n",
    "\n",
    "avg / total       0.96      0.96      0.96       349\n",
    "\n",
    "Confusion matrix: \n",
    "[[ 99   9]\n",
    " [  5 236]]\n",
    " \n",
    "Feature ranking:\n",
    "1. feature #8 (0.316258) \tPruned_2\n",
    "2. feature #9 (0.072130) \tPruned_3\n",
    "3. feature #41 (0.064158) \tDives_A4\n",
    "4. feature #24 (0.060862) \tBestBound_A1\n",
    "5. feature #25 (0.057898) \tBestBound_2\n",
    "6. feature #3 (0.047639) \tLastData_17\n",
    "7. feature #0 (0.038469) \tLastData_7\n",
    "8. feature #43 (0.035739) \tIntegral_2\n",
    "9. feature #4 (0.025634) \tLastData_18\n",
    "10. feature #22 (0.022421) \tIncumbent_A9"
   ]
  },
  {
   "cell_type": "raw",
   "metadata": {},
   "source": [
    "Features importance (random_forest, 45 features with additional ones)\n",
    "\n",
    "1. feature 41 (0.146692)    Dives_A4\n",
    "2. feature 8 (0.130558)     Pruned_2\n",
    "3. feature 9 (0.094396)     Pruned_3\n",
    "4. feature 0 (0.066010)     LastData_7\n",
    "5. feature 3 (0.059150)     LastData_17\n",
    "6. feature 4 (0.056910)     LastData_18\n",
    "7. feature 25 (0.050520)    BestBound_2\n",
    "8. feature 11 (0.036433)    NodesLeft_2\n",
    "9. feature 44 (0.030767)    Cuts_5\n",
    "10. feature 6 (0.026866)    LastData_20\n"
   ]
  }
 ],
 "metadata": {
  "anaconda-cloud": {},
  "kernelspec": {
   "display_name": "Python 3",
   "language": "python",
   "name": "python3"
  },
  "language_info": {
   "codemirror_mode": {
    "name": "ipython",
    "version": 3
   },
   "file_extension": ".py",
   "mimetype": "text/x-python",
   "name": "python",
   "nbconvert_exporter": "python",
   "pygments_lexer": "ipython3",
   "version": "3.7.3"
  }
 },
 "nbformat": 4,
 "nbformat_minor": 4
}
